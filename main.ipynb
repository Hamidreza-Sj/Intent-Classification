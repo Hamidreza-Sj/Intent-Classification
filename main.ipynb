{
 "cells": [
  {
   "cell_type": "markdown",
   "id": "83cdd6ac",
   "metadata": {},
   "source": [
    "# Import Libraries"
   ]
  },
  {
   "cell_type": "code",
   "execution_count": 1,
   "id": "fb1c8ca6",
   "metadata": {},
   "outputs": [],
   "source": [
    "import pandas as pd\n",
    "import numpy as np\n",
    "import matplotlib.pylab as plt\n",
    "import seaborn as sns\n",
    "import scipy as sp\n",
    "import scipy.io.wavfile as wf\n",
    "import librosa\n",
    "import librosa.display\n",
    "import IPython.display as ipd\n",
    "from itertools import cycle\n",
    "%matplotlib inline\n",
    "from imblearn.over_sampling import SMOTE\n",
    "from sklearn.ensemble import RandomForestClassifier\n",
    "import lightgbm\n",
    "from sklearn.metrics import confusion_matrix, accuracy_score\n",
    "from sklearn import preprocessing\n",
    "from sklearn.model_selection import train_test_split\n",
    "from sklearn.model_selection import GridSearchCV"
   ]
  },
  {
   "cell_type": "markdown",
   "id": "0d53ad77",
   "metadata": {},
   "source": [
    "# Preparing the CSV"
   ]
  },
  {
   "cell_type": "code",
   "execution_count": 2,
   "id": "2cff17cd",
   "metadata": {},
   "outputs": [],
   "source": [
    "audiopath=[]\n",
    "csv = pd.read_csv('development.csv')\n",
    "for index, row in csv.iterrows():\n",
    "    file_name = row['path']\n",
    "    audiopath.append(file_name)"
   ]
  },
  {
   "cell_type": "code",
   "execution_count": 3,
   "id": "31fd2dba",
   "metadata": {},
   "outputs": [
    {
     "data": {
      "text/html": [
       "<div>\n",
       "<style scoped>\n",
       "    .dataframe tbody tr th:only-of-type {\n",
       "        vertical-align: middle;\n",
       "    }\n",
       "\n",
       "    .dataframe tbody tr th {\n",
       "        vertical-align: top;\n",
       "    }\n",
       "\n",
       "    .dataframe thead th {\n",
       "        text-align: right;\n",
       "    }\n",
       "</style>\n",
       "<table border=\"1\" class=\"dataframe\">\n",
       "  <thead>\n",
       "    <tr style=\"text-align: right;\">\n",
       "      <th></th>\n",
       "      <th>Id</th>\n",
       "      <th>path</th>\n",
       "      <th>speakerId</th>\n",
       "      <th>action</th>\n",
       "      <th>object</th>\n",
       "      <th>Self-reported fluency level</th>\n",
       "      <th>First Language spoken</th>\n",
       "      <th>Current language used for work/school</th>\n",
       "      <th>gender</th>\n",
       "      <th>ageRange</th>\n",
       "      <th>intention</th>\n",
       "    </tr>\n",
       "  </thead>\n",
       "  <tbody>\n",
       "    <tr>\n",
       "      <th>0</th>\n",
       "      <td>0</td>\n",
       "      <td>dsl_data/audio/speakers/2BqVo8kVB2Skwgyb/0a312...</td>\n",
       "      <td>2BqVo8kVB2Skwgyb</td>\n",
       "      <td>change language</td>\n",
       "      <td>none</td>\n",
       "      <td>advanced</td>\n",
       "      <td>English (United States)</td>\n",
       "      <td>English (United States)</td>\n",
       "      <td>female</td>\n",
       "      <td>22-40</td>\n",
       "      <td>change languagenone</td>\n",
       "    </tr>\n",
       "    <tr>\n",
       "      <th>1</th>\n",
       "      <td>1</td>\n",
       "      <td>dsl_data/audio/speakers/2BqVo8kVB2Skwgyb/0ee42...</td>\n",
       "      <td>2BqVo8kVB2Skwgyb</td>\n",
       "      <td>activate</td>\n",
       "      <td>music</td>\n",
       "      <td>advanced</td>\n",
       "      <td>English (United States)</td>\n",
       "      <td>English (United States)</td>\n",
       "      <td>female</td>\n",
       "      <td>22-40</td>\n",
       "      <td>activatemusic</td>\n",
       "    </tr>\n",
       "    <tr>\n",
       "      <th>2</th>\n",
       "      <td>2</td>\n",
       "      <td>dsl_data/audio/speakers/2BqVo8kVB2Skwgyb/1d9f3...</td>\n",
       "      <td>2BqVo8kVB2Skwgyb</td>\n",
       "      <td>deactivate</td>\n",
       "      <td>lights</td>\n",
       "      <td>advanced</td>\n",
       "      <td>English (United States)</td>\n",
       "      <td>English (United States)</td>\n",
       "      <td>female</td>\n",
       "      <td>22-40</td>\n",
       "      <td>deactivatelights</td>\n",
       "    </tr>\n",
       "    <tr>\n",
       "      <th>3</th>\n",
       "      <td>3</td>\n",
       "      <td>dsl_data/audio/speakers/2BqVo8kVB2Skwgyb/269fc...</td>\n",
       "      <td>2BqVo8kVB2Skwgyb</td>\n",
       "      <td>increase</td>\n",
       "      <td>volume</td>\n",
       "      <td>advanced</td>\n",
       "      <td>English (United States)</td>\n",
       "      <td>English (United States)</td>\n",
       "      <td>female</td>\n",
       "      <td>22-40</td>\n",
       "      <td>increasevolume</td>\n",
       "    </tr>\n",
       "    <tr>\n",
       "      <th>4</th>\n",
       "      <td>4</td>\n",
       "      <td>dsl_data/audio/speakers/2BqVo8kVB2Skwgyb/5bbda...</td>\n",
       "      <td>2BqVo8kVB2Skwgyb</td>\n",
       "      <td>increase</td>\n",
       "      <td>volume</td>\n",
       "      <td>advanced</td>\n",
       "      <td>English (United States)</td>\n",
       "      <td>English (United States)</td>\n",
       "      <td>female</td>\n",
       "      <td>22-40</td>\n",
       "      <td>increasevolume</td>\n",
       "    </tr>\n",
       "    <tr>\n",
       "      <th>...</th>\n",
       "      <td>...</td>\n",
       "      <td>...</td>\n",
       "      <td>...</td>\n",
       "      <td>...</td>\n",
       "      <td>...</td>\n",
       "      <td>...</td>\n",
       "      <td>...</td>\n",
       "      <td>...</td>\n",
       "      <td>...</td>\n",
       "      <td>...</td>\n",
       "      <td>...</td>\n",
       "    </tr>\n",
       "    <tr>\n",
       "      <th>9849</th>\n",
       "      <td>9849</td>\n",
       "      <td>dsl_data/audio/speakers/vnljypgejkINbBAY/4fb3d...</td>\n",
       "      <td>vnljypgejkINbBAY</td>\n",
       "      <td>decrease</td>\n",
       "      <td>volume</td>\n",
       "      <td>native</td>\n",
       "      <td>English (United States)</td>\n",
       "      <td>English (United States)</td>\n",
       "      <td>male</td>\n",
       "      <td>22-40</td>\n",
       "      <td>decreasevolume</td>\n",
       "    </tr>\n",
       "    <tr>\n",
       "      <th>9850</th>\n",
       "      <td>9850</td>\n",
       "      <td>dsl_data/audio/speakers/vnljypgejkINbBAY/59e6a...</td>\n",
       "      <td>vnljypgejkINbBAY</td>\n",
       "      <td>deactivate</td>\n",
       "      <td>lights</td>\n",
       "      <td>native</td>\n",
       "      <td>English (United States)</td>\n",
       "      <td>English (United States)</td>\n",
       "      <td>male</td>\n",
       "      <td>22-40</td>\n",
       "      <td>deactivatelights</td>\n",
       "    </tr>\n",
       "    <tr>\n",
       "      <th>9851</th>\n",
       "      <td>9851</td>\n",
       "      <td>dsl_data/audio/speakers/vnljypgejkINbBAY/5c81c...</td>\n",
       "      <td>vnljypgejkINbBAY</td>\n",
       "      <td>deactivate</td>\n",
       "      <td>lights</td>\n",
       "      <td>native</td>\n",
       "      <td>English (United States)</td>\n",
       "      <td>English (United States)</td>\n",
       "      <td>male</td>\n",
       "      <td>22-40</td>\n",
       "      <td>deactivatelights</td>\n",
       "    </tr>\n",
       "    <tr>\n",
       "      <th>9852</th>\n",
       "      <td>9852</td>\n",
       "      <td>dsl_data/audio/speakers/vnljypgejkINbBAY/5ef42...</td>\n",
       "      <td>vnljypgejkINbBAY</td>\n",
       "      <td>deactivate</td>\n",
       "      <td>lights</td>\n",
       "      <td>native</td>\n",
       "      <td>English (United States)</td>\n",
       "      <td>English (United States)</td>\n",
       "      <td>male</td>\n",
       "      <td>22-40</td>\n",
       "      <td>deactivatelights</td>\n",
       "    </tr>\n",
       "    <tr>\n",
       "      <th>9853</th>\n",
       "      <td>9853</td>\n",
       "      <td>dsl_data/audio/speakers/vnljypgejkINbBAY/61b7a...</td>\n",
       "      <td>vnljypgejkINbBAY</td>\n",
       "      <td>increase</td>\n",
       "      <td>volume</td>\n",
       "      <td>native</td>\n",
       "      <td>English (United States)</td>\n",
       "      <td>English (United States)</td>\n",
       "      <td>male</td>\n",
       "      <td>22-40</td>\n",
       "      <td>increasevolume</td>\n",
       "    </tr>\n",
       "  </tbody>\n",
       "</table>\n",
       "<p>9854 rows × 11 columns</p>\n",
       "</div>"
      ],
      "text/plain": [
       "        Id                                               path  \\\n",
       "0        0  dsl_data/audio/speakers/2BqVo8kVB2Skwgyb/0a312...   \n",
       "1        1  dsl_data/audio/speakers/2BqVo8kVB2Skwgyb/0ee42...   \n",
       "2        2  dsl_data/audio/speakers/2BqVo8kVB2Skwgyb/1d9f3...   \n",
       "3        3  dsl_data/audio/speakers/2BqVo8kVB2Skwgyb/269fc...   \n",
       "4        4  dsl_data/audio/speakers/2BqVo8kVB2Skwgyb/5bbda...   \n",
       "...    ...                                                ...   \n",
       "9849  9849  dsl_data/audio/speakers/vnljypgejkINbBAY/4fb3d...   \n",
       "9850  9850  dsl_data/audio/speakers/vnljypgejkINbBAY/59e6a...   \n",
       "9851  9851  dsl_data/audio/speakers/vnljypgejkINbBAY/5c81c...   \n",
       "9852  9852  dsl_data/audio/speakers/vnljypgejkINbBAY/5ef42...   \n",
       "9853  9853  dsl_data/audio/speakers/vnljypgejkINbBAY/61b7a...   \n",
       "\n",
       "             speakerId           action  object Self-reported fluency level   \\\n",
       "0     2BqVo8kVB2Skwgyb  change language    none                     advanced   \n",
       "1     2BqVo8kVB2Skwgyb         activate   music                     advanced   \n",
       "2     2BqVo8kVB2Skwgyb       deactivate  lights                     advanced   \n",
       "3     2BqVo8kVB2Skwgyb         increase  volume                     advanced   \n",
       "4     2BqVo8kVB2Skwgyb         increase  volume                     advanced   \n",
       "...                ...              ...     ...                          ...   \n",
       "9849  vnljypgejkINbBAY         decrease  volume                       native   \n",
       "9850  vnljypgejkINbBAY       deactivate  lights                       native   \n",
       "9851  vnljypgejkINbBAY       deactivate  lights                       native   \n",
       "9852  vnljypgejkINbBAY       deactivate  lights                       native   \n",
       "9853  vnljypgejkINbBAY         increase  volume                       native   \n",
       "\n",
       "        First Language spoken Current language used for work/school  gender  \\\n",
       "0     English (United States)               English (United States)  female   \n",
       "1     English (United States)               English (United States)  female   \n",
       "2     English (United States)               English (United States)  female   \n",
       "3     English (United States)               English (United States)  female   \n",
       "4     English (United States)               English (United States)  female   \n",
       "...                       ...                                   ...     ...   \n",
       "9849  English (United States)               English (United States)    male   \n",
       "9850  English (United States)               English (United States)    male   \n",
       "9851  English (United States)               English (United States)    male   \n",
       "9852  English (United States)               English (United States)    male   \n",
       "9853  English (United States)               English (United States)    male   \n",
       "\n",
       "     ageRange            intention  \n",
       "0       22-40  change languagenone  \n",
       "1       22-40        activatemusic  \n",
       "2       22-40     deactivatelights  \n",
       "3       22-40       increasevolume  \n",
       "4       22-40       increasevolume  \n",
       "...       ...                  ...  \n",
       "9849    22-40       decreasevolume  \n",
       "9850    22-40     deactivatelights  \n",
       "9851    22-40     deactivatelights  \n",
       "9852    22-40     deactivatelights  \n",
       "9853    22-40       increasevolume  \n",
       "\n",
       "[9854 rows x 11 columns]"
      ]
     },
     "execution_count": 3,
     "metadata": {},
     "output_type": "execute_result"
    }
   ],
   "source": [
    "csv['intention']= csv['action'] + csv['object']\n",
    "csv"
   ]
  },
  {
   "cell_type": "code",
   "execution_count": 6,
   "id": "39d45c77",
   "metadata": {},
   "outputs": [
    {
     "data": {
      "text/plain": [
       "increasevolume         2614\n",
       "decreasevolume         2386\n",
       "increaseheat           1209\n",
       "decreaseheat           1189\n",
       "change languagenone    1113\n",
       "activatemusic           791\n",
       "deactivatelights        552\n",
       "Name: intention, dtype: int64"
      ]
     },
     "execution_count": 6,
     "metadata": {},
     "output_type": "execute_result"
    }
   ],
   "source": [
    "#data is not balance\n",
    "csv['intention'].value_counts()"
   ]
  },
  {
   "cell_type": "code",
   "execution_count": 7,
   "id": "d15a1254",
   "metadata": {},
   "outputs": [],
   "source": [
    "df= csv.copy()"
   ]
  },
  {
   "cell_type": "markdown",
   "id": "2fb0ecd6",
   "metadata": {},
   "source": [
    "### Extract MFFCs\n"
   ]
  },
  {
   "cell_type": "markdown",
   "id": "bc659a28",
   "metadata": {},
   "source": [
    "#### This code get duration of all data then trim audios and pad all data to (10.5 (s)). Finally extract MFFCs from them."
   ]
  },
  {
   "cell_type": "code",
   "execution_count": 8,
   "id": "e4da0f63",
   "metadata": {},
   "outputs": [],
   "source": [
    "DBT=[]\n",
    "mfccs= []\n",
    "for i in range(0, 9854):\n",
    "    path=(audiopath[i])\n",
    "    x,sr= librosa.load(path)\n",
    "    Duration_Before_Trim= librosa.get_duration(filename=path)\n",
    "    trim=librosa.effects.trim(x,top_db=20)\n",
    "    o=231525-len(trim[0])\n",
    "    paddig=np.pad(trim[0],(0,o))\n",
    "    q= librosa.feature.mfcc(y=paddig, sr=sr)\n",
    "    DBT.append(Duration_Before_Trim)\n",
    "    mfccs.append(q)"
   ]
  },
  {
   "cell_type": "markdown",
   "id": "505c18bc",
   "metadata": {},
   "source": [
    "# Visualizations"
   ]
  },
  {
   "cell_type": "code",
   "execution_count": 9,
   "id": "2c32359b",
   "metadata": {},
   "outputs": [
    {
     "data": {
      "image/png": "[encoded data removed]",
      "text/plain": [
       "<Figure size 504x122.4 with 1 Axes>"
      ]
     },
     "metadata": {
      "needs_background": "light"
     },
     "output_type": "display_data"
    }
   ],
   "source": [
    "plt.figure(figsize=(7,1.7))\n",
    "plt.hist(DBT, color = 'blue', bins = int(180/5))\n",
    "plt.xlabel('Duration (s)', fontweight = 'bold')\n",
    "plt.ylabel('Count', fontweight = 'bold')\n",
    "plt.grid()\n",
    "plt.show()"
   ]
  },
  {
   "cell_type": "code",
   "execution_count": 10,
   "id": "19cf6c4a",
   "metadata": {},
   "outputs": [
    {
     "data": {
      "image/png": "[encoded data removed]",
      "text/plain": [
       "<Figure size 504x122.4 with 1 Axes>"
      ]
     },
     "metadata": {
      "needs_background": "light"
     },
     "output_type": "display_data"
    }
   ],
   "source": [
    "ax=csv['intention'].value_counts().plot(kind='bar', colormap = 'tab10', figsize=(7,1.7))\n",
    "plt.xlabel(\"labels of intention\",fontweight = 'bold')\n",
    "plt.ylabel(\"Count\",fontweight = 'bold')\n",
    "plt.grid()\n",
    "plt.show()"
   ]
  },
  {
   "cell_type": "code",
   "execution_count": 11,
   "id": "a09af9ba",
   "metadata": {},
   "outputs": [
    {
     "data": {
      "image/png": "[encoded data removed]",
      "text/plain": [
       "<Figure size 504x122.4 with 1 Axes>"
      ]
     },
     "metadata": {
      "needs_background": "light"
     },
     "output_type": "display_data"
    }
   ],
   "source": [
    "wavfile= audiopath[0]\n",
    "a, b= wf.read(wavfile)\n",
    "\n",
    "duration= len(b)/a \n",
    "c= np.linspace(0,duration,len(b))\n",
    "plt.figure(figsize=(7,1.7))\n",
    "plt.plot(c,b)\n",
    "plt.grid()\n",
    "plt.xlabel('Time (s)', fontweight = 'bold')\n",
    "plt.ylabel('Amplitude', fontweight = 'bold')\n",
    "plt.show()"
   ]
  },
  {
   "cell_type": "code",
   "execution_count": 12,
   "id": "85311550",
   "metadata": {},
   "outputs": [
    {
     "data": {
      "image/png": "[encoded data removed]",
      "text/plain": [
       "<Figure size 504x122.4 with 1 Axes>"
      ]
     },
     "metadata": {
      "needs_background": "light"
     },
     "output_type": "display_data"
    }
   ],
   "source": [
    "k,sr= librosa.load(audiopath[0])\n",
    "\n",
    "a = np.fft.fft(k)\n",
    "a_mag = np.absolute(a)\n",
    "plt.figure(figsize=(7,1.7))\n",
    "b = np.linspace(0, sr, len(a_mag))\n",
    "b_bins = int(len(a_mag)*0.2)  \n",
    "plt.plot(b[:b_bins], a_mag[:b_bins])\n",
    "plt.ylabel('Magnitude', fontweight = 'bold')\n",
    "plt.xlabel('Frequency (Hz)', fontweight = 'bold')\n",
    "plt.grid()\n",
    "plt.show()"
   ]
  },
  {
   "cell_type": "code",
   "execution_count": 13,
   "id": "3960f369",
   "metadata": {},
   "outputs": [
    {
     "data": {
      "image/png": "[encoded data removed]",
      "text/plain": [
       "<Figure size 432x288 with 2 Axes>"
      ]
     },
     "metadata": {
      "needs_background": "light"
     },
     "output_type": "display_data"
    },
    {
     "data": {
      "text/plain": [
       "<Figure size 360x288 with 0 Axes>"
      ]
     },
     "metadata": {},
     "output_type": "display_data"
    }
   ],
   "source": [
    "k, sr= librosa.load(audiopath[0])\n",
    "a= librosa.stft(k)\n",
    "b= librosa.amplitude_to_db(np.abs(a), ref=np.max)\n",
    "\n",
    "fig, ax= plt.subplots()\n",
    "pic= librosa.display.specshow(b, x_axis='time', y_axis='log', ax=ax)\n",
    "ax.set(ylabel='Frequency (Hz)', xlabel='Time (s)')\n",
    "fig.colorbar(pic, ax=ax)\n",
    "plt.figure(figsize=(5,4))\n",
    "plt.show()"
   ]
  },
  {
   "cell_type": "markdown",
   "id": "4b7be2c6",
   "metadata": {},
   "source": [
    "# Train Data"
   ]
  },
  {
   "cell_type": "code",
   "execution_count": 14,
   "id": "35424913",
   "metadata": {},
   "outputs": [],
   "source": [
    "feature= np.array(mfccs)\n",
    "feature= feature.reshape(feature.shape[0], -1)"
   ]
  },
  {
   "cell_type": "code",
   "execution_count": 34,
   "id": "206304bc",
   "metadata": {},
   "outputs": [],
   "source": [
    "x= feature\n",
    "y= df['intention']"
   ]
  },
  {
   "cell_type": "code",
   "execution_count": 30,
   "id": "128aa885",
   "metadata": {},
   "outputs": [],
   "source": [
    "#split dataset to 80%(train)/20%(test)\n",
    "#x_train, x_test, y_train, y_test = train_test_split(x, y, test_size=0.2, random_state=4)"
   ]
  },
  {
   "cell_type": "markdown",
   "id": "db61b5e0",
   "metadata": {},
   "source": [
    "### SMOTE Oversampling"
   ]
  },
  {
   "cell_type": "code",
   "execution_count": 35,
   "id": "b28ac9d3",
   "metadata": {},
   "outputs": [],
   "source": [
    "smote = SMOTE(random_state=4, sampling_strategy='not majority')\n",
    "\n",
    "X_train, Y_train = smote.fit_resample(x,y)"
   ]
  },
  {
   "cell_type": "code",
   "execution_count": 21,
   "id": "4cbca6c8",
   "metadata": {},
   "outputs": [
    {
     "data": {
      "text/plain": [
       "change languagenone    2614\n",
       "activatemusic          2614\n",
       "deactivatelights       2614\n",
       "increasevolume         2614\n",
       "decreasevolume         2614\n",
       "increaseheat           2614\n",
       "decreaseheat           2614\n",
       "Name: intention, dtype: int64"
      ]
     },
     "execution_count": 21,
     "metadata": {},
     "output_type": "execute_result"
    }
   ],
   "source": [
    "#data after oversampling, now it's balance\n",
    "Y_train.value_counts()"
   ]
  },
  {
   "cell_type": "markdown",
   "id": "37e9875a",
   "metadata": {},
   "source": [
    "# Classification Models"
   ]
  },
  {
   "cell_type": "code",
   "execution_count": null,
   "id": "fee95a2b",
   "metadata": {},
   "outputs": [],
   "source": [
    "#tunning random forest with grid search\n",
    "\n",
    "#x = X_train\n",
    "#y = Y_train\n",
    "#RF= RandomForestClassifier()\n",
    "#param= {'criterion':['gini', 'entropy'], 'max_depth':[None,5,10], 'n_estimators':[50,100,200,2000]}\n",
    "#GS= GridSearchCV(RF, param)\n",
    "#%time GS.fit(x,y)\n",
    "#GS.best_score_\n",
    "#GS.best_params_"
   ]
  },
  {
   "cell_type": "code",
   "execution_count": 22,
   "id": "4ef8a574",
   "metadata": {},
   "outputs": [
    {
     "data": {
      "text/html": [
       "<style>#sk-container-id-1 {color: black;background-color: white;}#sk-container-id-1 pre{padding: 0;}#sk-container-id-1 div.sk-toggleable {background-color: white;}#sk-container-id-1 label.sk-toggleable__label {cursor: pointer;display: block;width: 100%;margin-bottom: 0;padding: 0.3em;box-sizing: border-box;text-align: center;}#sk-container-id-1 label.sk-toggleable__label-arrow:before {content: \"▸\";float: left;margin-right: 0.25em;color: #696969;}#sk-container-id-1 label.sk-toggleable__label-arrow:hover:before {color: black;}#sk-container-id-1 div.sk-estimator:hover label.sk-toggleable__label-arrow:before {color: black;}#sk-container-id-1 div.sk-toggleable__content {max-height: 0;max-width: 0;overflow: hidden;text-align: left;background-color: #f0f8ff;}#sk-container-id-1 div.sk-toggleable__content pre {margin: 0.2em;color: black;border-radius: 0.25em;background-color: #f0f8ff;}#sk-container-id-1 input.sk-toggleable__control:checked~div.sk-toggleable__content {max-height: 200px;max-width: 100%;overflow: auto;}#sk-container-id-1 input.sk-toggleable__control:checked~label.sk-toggleable__label-arrow:before {content: \"▾\";}#sk-container-id-1 div.sk-estimator input.sk-toggleable__control:checked~label.sk-toggleable__label {background-color: #d4ebff;}#sk-container-id-1 div.sk-label input.sk-toggleable__control:checked~label.sk-toggleable__label {background-color: #d4ebff;}#sk-container-id-1 input.sk-hidden--visually {border: 0;clip: rect(1px 1px 1px 1px);clip: rect(1px, 1px, 1px, 1px);height: 1px;margin: -1px;overflow: hidden;padding: 0;position: absolute;width: 1px;}#sk-container-id-1 div.sk-estimator {font-family: monospace;background-color: #f0f8ff;border: 1px dotted black;border-radius: 0.25em;box-sizing: border-box;margin-bottom: 0.5em;}#sk-container-id-1 div.sk-estimator:hover {background-color: #d4ebff;}#sk-container-id-1 div.sk-parallel-item::after {content: \"\";width: 100%;border-bottom: 1px solid gray;flex-grow: 1;}#sk-container-id-1 div.sk-label:hover label.sk-toggleable__label {background-color: #d4ebff;}#sk-container-id-1 div.sk-serial::before {content: \"\";position: absolute;border-left: 1px solid gray;box-sizing: border-box;top: 0;bottom: 0;left: 50%;z-index: 0;}#sk-container-id-1 div.sk-serial {display: flex;flex-direction: column;align-items: center;background-color: white;padding-right: 0.2em;padding-left: 0.2em;position: relative;}#sk-container-id-1 div.sk-item {position: relative;z-index: 1;}#sk-container-id-1 div.sk-parallel {display: flex;align-items: stretch;justify-content: center;background-color: white;position: relative;}#sk-container-id-1 div.sk-item::before, #sk-container-id-1 div.sk-parallel-item::before {content: \"\";position: absolute;border-left: 1px solid gray;box-sizing: border-box;top: 0;bottom: 0;left: 50%;z-index: -1;}#sk-container-id-1 div.sk-parallel-item {display: flex;flex-direction: column;z-index: 1;position: relative;background-color: white;}#sk-container-id-1 div.sk-parallel-item:first-child::after {align-self: flex-end;width: 50%;}#sk-container-id-1 div.sk-parallel-item:last-child::after {align-self: flex-start;width: 50%;}#sk-container-id-1 div.sk-parallel-item:only-child::after {width: 0;}#sk-container-id-1 div.sk-dashed-wrapped {border: 1px dashed gray;margin: 0 0.4em 0.5em 0.4em;box-sizing: border-box;padding-bottom: 0.4em;background-color: white;}#sk-container-id-1 div.sk-label label {font-family: monospace;font-weight: bold;display: inline-block;line-height: 1.2em;}#sk-container-id-1 div.sk-label-container {text-align: center;}#sk-container-id-1 div.sk-container {/* jupyter's `normalize.less` sets `[hidden] { display: none; }` but bootstrap.min.css set `[hidden] { display: none !important; }` so we also need the `!important` here to be able to override the default hidden behavior on the sphinx rendered scikit-learn.org. See: https://github.com/scikit-learn/scikit-learn/issues/21755 */display: inline-block !important;position: relative;}#sk-container-id-1 div.sk-text-repr-fallback {display: none;}</style><div id=\"sk-container-id-1\" class=\"sk-top-container\"><div class=\"sk-text-repr-fallback\"><pre>RandomForestClassifier(criterion=&#x27;entropy&#x27;, n_estimators=2000, random_state=4)</pre><b>In a Jupyter environment, please rerun this cell to show the HTML representation or trust the notebook. <br />On GitHub, the HTML representation is unable to render, please try loading this page with nbviewer.org.</b></div><div class=\"sk-container\" hidden><div class=\"sk-item\"><div class=\"sk-estimator sk-toggleable\"><input class=\"sk-toggleable__control sk-hidden--visually\" id=\"sk-estimator-id-1\" type=\"checkbox\" checked><label for=\"sk-estimator-id-1\" class=\"sk-toggleable__label sk-toggleable__label-arrow\">RandomForestClassifier</label><div class=\"sk-toggleable__content\"><pre>RandomForestClassifier(criterion=&#x27;entropy&#x27;, n_estimators=2000, random_state=4)</pre></div></div></div></div></div>"
      ],
      "text/plain": [
       "RandomForestClassifier(criterion='entropy', n_estimators=2000, random_state=4)"
      ]
     },
     "execution_count": 22,
     "metadata": {},
     "output_type": "execute_result"
    }
   ],
   "source": [
    "#final Random Forest Model\n",
    "\n",
    "#x_train = X_train\n",
    "#y_train = Y_train\n",
    "#RF = RandomForestClassifier(n_estimators=2000, criterion='entropy', max_depth=None, random_state=4)\n",
    "#RF.fit(x_train, y_train)\n",
    "#preds_train = RF.predict(x_train)\n",
    "#preds_test = RF.predict(x_test)\n",
    "#print('Accuracy', round(accuracy_score(y_test, preds_test), 5), '\\n')"
   ]
  },
  {
   "cell_type": "code",
   "execution_count": null,
   "id": "ef855f4f",
   "metadata": {},
   "outputs": [],
   "source": [
    "#tunning lightGBM with grid search\n",
    "\n",
    "#x = X_train\n",
    "#y = Y_train\n",
    "#LGBM= lightgbm.LGBMClassifier()\n",
    "#param= {'num_leaves':[25,50,70], 'learning_rate':[0.01,0.05,0.1], 'n_estimators':[100,1000,2000]}\n",
    "#GS= GridSearchCV(LGBM, param)\n",
    "#%time GS.fit(x,y)\n",
    "#GS.best_score_\n",
    "#GS.best_params_"
   ]
  },
  {
   "cell_type": "code",
   "execution_count": 36,
   "id": "db52b88e",
   "metadata": {},
   "outputs": [
    {
     "data": {
      "text/html": [
       "<style>#sk-container-id-3 {color: black;background-color: white;}#sk-container-id-3 pre{padding: 0;}#sk-container-id-3 div.sk-toggleable {background-color: white;}#sk-container-id-3 label.sk-toggleable__label {cursor: pointer;display: block;width: 100%;margin-bottom: 0;padding: 0.3em;box-sizing: border-box;text-align: center;}#sk-container-id-3 label.sk-toggleable__label-arrow:before {content: \"▸\";float: left;margin-right: 0.25em;color: #696969;}#sk-container-id-3 label.sk-toggleable__label-arrow:hover:before {color: black;}#sk-container-id-3 div.sk-estimator:hover label.sk-toggleable__label-arrow:before {color: black;}#sk-container-id-3 div.sk-toggleable__content {max-height: 0;max-width: 0;overflow: hidden;text-align: left;background-color: #f0f8ff;}#sk-container-id-3 div.sk-toggleable__content pre {margin: 0.2em;color: black;border-radius: 0.25em;background-color: #f0f8ff;}#sk-container-id-3 input.sk-toggleable__control:checked~div.sk-toggleable__content {max-height: 200px;max-width: 100%;overflow: auto;}#sk-container-id-3 input.sk-toggleable__control:checked~label.sk-toggleable__label-arrow:before {content: \"▾\";}#sk-container-id-3 div.sk-estimator input.sk-toggleable__control:checked~label.sk-toggleable__label {background-color: #d4ebff;}#sk-container-id-3 div.sk-label input.sk-toggleable__control:checked~label.sk-toggleable__label {background-color: #d4ebff;}#sk-container-id-3 input.sk-hidden--visually {border: 0;clip: rect(1px 1px 1px 1px);clip: rect(1px, 1px, 1px, 1px);height: 1px;margin: -1px;overflow: hidden;padding: 0;position: absolute;width: 1px;}#sk-container-id-3 div.sk-estimator {font-family: monospace;background-color: #f0f8ff;border: 1px dotted black;border-radius: 0.25em;box-sizing: border-box;margin-bottom: 0.5em;}#sk-container-id-3 div.sk-estimator:hover {background-color: #d4ebff;}#sk-container-id-3 div.sk-parallel-item::after {content: \"\";width: 100%;border-bottom: 1px solid gray;flex-grow: 1;}#sk-container-id-3 div.sk-label:hover label.sk-toggleable__label {background-color: #d4ebff;}#sk-container-id-3 div.sk-serial::before {content: \"\";position: absolute;border-left: 1px solid gray;box-sizing: border-box;top: 0;bottom: 0;left: 50%;z-index: 0;}#sk-container-id-3 div.sk-serial {display: flex;flex-direction: column;align-items: center;background-color: white;padding-right: 0.2em;padding-left: 0.2em;position: relative;}#sk-container-id-3 div.sk-item {position: relative;z-index: 1;}#sk-container-id-3 div.sk-parallel {display: flex;align-items: stretch;justify-content: center;background-color: white;position: relative;}#sk-container-id-3 div.sk-item::before, #sk-container-id-3 div.sk-parallel-item::before {content: \"\";position: absolute;border-left: 1px solid gray;box-sizing: border-box;top: 0;bottom: 0;left: 50%;z-index: -1;}#sk-container-id-3 div.sk-parallel-item {display: flex;flex-direction: column;z-index: 1;position: relative;background-color: white;}#sk-container-id-3 div.sk-parallel-item:first-child::after {align-self: flex-end;width: 50%;}#sk-container-id-3 div.sk-parallel-item:last-child::after {align-self: flex-start;width: 50%;}#sk-container-id-3 div.sk-parallel-item:only-child::after {width: 0;}#sk-container-id-3 div.sk-dashed-wrapped {border: 1px dashed gray;margin: 0 0.4em 0.5em 0.4em;box-sizing: border-box;padding-bottom: 0.4em;background-color: white;}#sk-container-id-3 div.sk-label label {font-family: monospace;font-weight: bold;display: inline-block;line-height: 1.2em;}#sk-container-id-3 div.sk-label-container {text-align: center;}#sk-container-id-3 div.sk-container {/* jupyter's `normalize.less` sets `[hidden] { display: none; }` but bootstrap.min.css set `[hidden] { display: none !important; }` so we also need the `!important` here to be able to override the default hidden behavior on the sphinx rendered scikit-learn.org. See: https://github.com/scikit-learn/scikit-learn/issues/21755 */display: inline-block !important;position: relative;}#sk-container-id-3 div.sk-text-repr-fallback {display: none;}</style><div id=\"sk-container-id-3\" class=\"sk-top-container\"><div class=\"sk-text-repr-fallback\"><pre>LGBMClassifier(learning_rate=0.05, n_estimators=2000, num_leaves=70,\n",
       "               random_state=4)</pre><b>In a Jupyter environment, please rerun this cell to show the HTML representation or trust the notebook. <br />On GitHub, the HTML representation is unable to render, please try loading this page with nbviewer.org.</b></div><div class=\"sk-container\" hidden><div class=\"sk-item\"><div class=\"sk-estimator sk-toggleable\"><input class=\"sk-toggleable__control sk-hidden--visually\" id=\"sk-estimator-id-3\" type=\"checkbox\" checked><label for=\"sk-estimator-id-3\" class=\"sk-toggleable__label sk-toggleable__label-arrow\">LGBMClassifier</label><div class=\"sk-toggleable__content\"><pre>LGBMClassifier(learning_rate=0.05, n_estimators=2000, num_leaves=70,\n",
       "               random_state=4)</pre></div></div></div></div></div>"
      ],
      "text/plain": [
       "LGBMClassifier(learning_rate=0.05, n_estimators=2000, num_leaves=70,\n",
       "               random_state=4)"
      ]
     },
     "execution_count": 36,
     "metadata": {},
     "output_type": "execute_result"
    }
   ],
   "source": [
    "#final LGBM Model\n",
    "\n",
    "x_train = X_train\n",
    "y_train = Y_train\n",
    "LGBM= lightgbm.LGBMClassifier(random_state=4, n_estimators=2000, num_leaves=70, learning_rate=0.05)\n",
    "LGBM.fit(x_train, y_train)\n",
    "#preds_train = LGBM.predict(x_train)\n",
    "#preds_test = LGBM.predict(x_test)\n",
    "#print('Accuracy', round(accuracy_score(y_test, preds_test), 5), '\\n')"
   ]
  },
  {
   "cell_type": "markdown",
   "id": "adfb6efd",
   "metadata": {},
   "source": [
    "# Test Data"
   ]
  },
  {
   "cell_type": "code",
   "execution_count": 37,
   "id": "afa16a89",
   "metadata": {},
   "outputs": [],
   "source": [
    "audiotestpath=[]\n",
    "csv_test = pd.read_csv('evaluation.csv')\n",
    "for index, row in csv_test.iterrows():\n",
    "    file_name = row['path']\n",
    "    audiotestpath.append(file_name)"
   ]
  },
  {
   "cell_type": "code",
   "execution_count": 38,
   "id": "280951b4",
   "metadata": {},
   "outputs": [],
   "source": [
    "mfccs_test= []\n",
    "for i in range(0, 1455):\n",
    "    x_test,sr= librosa.load(audiotestpath[i])\n",
    "    trim_test=librosa.effects.trim(x_test,top_db=20)\n",
    "    o_test=231525-len(trim_test[0])\n",
    "    paddig_test=np.pad(trim_test[0],(0,o_test))\n",
    "    q_test= librosa.feature.mfcc(y=paddig_test, sr=sr)\n",
    "    mfccs_test.append(q_test)"
   ]
  },
  {
   "cell_type": "code",
   "execution_count": 39,
   "id": "1bf623db",
   "metadata": {},
   "outputs": [],
   "source": [
    "feature_test= np.array(mfccs_test)\n",
    "feature_test= feature_test.reshape(feature_test.shape[0], -1)"
   ]
  },
  {
   "cell_type": "code",
   "execution_count": 40,
   "id": "857b1cf2",
   "metadata": {},
   "outputs": [],
   "source": [
    "x_test= feature_test\n",
    "y_predict = LGBM.predict(x_test)"
   ]
  },
  {
   "cell_type": "code",
   "execution_count": 41,
   "id": "63760b78",
   "metadata": {},
   "outputs": [],
   "source": [
    "csv_test['Predicted'] = y_predict\n",
    "final_df= csv_test[['Id', 'Predicted']]"
   ]
  },
  {
   "cell_type": "code",
   "execution_count": 43,
   "id": "69a00a17",
   "metadata": {},
   "outputs": [],
   "source": [
    "final_df.to_csv(\"C:/Users/ASUS/Final_csv.csv\", sep=',', index=False)"
   ]
  }
 ],
 "metadata": {
  "kernelspec": {
   "display_name": "Python 3 (ipykernel)",
   "language": "python",
   "name": "python3"
  },
  "language_info": {
   "codemirror_mode": {
    "name": "ipython",
    "version": 3
   },
   "file_extension": ".py",
   "mimetype": "text/x-python",
   "name": "python",
   "nbconvert_exporter": "python",
   "pygments_lexer": "ipython3",
   "version": "3.9.7"
  }
 },
 "nbformat": 4,
 "nbformat_minor": 5
}
